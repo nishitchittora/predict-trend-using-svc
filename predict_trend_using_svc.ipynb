{
 "cells": [
  {
   "cell_type": "markdown",
   "metadata": {},
   "source": [
    "# Support Vector Classifier Strategy Code\n",
    "\n",
    "In this notebook, you will learn to create a support vector classifier (SVC) algorithm on Nifty 50. \n",
    "\n",
    "SVCs are supervised learning models. A set of training data is provided to the SVC algorithm, each belonging to one of the categories. For instance, the categories can be either to buy or to sell a stock. The algorithm builds a model during the training phase and assigns new data into one of the categories based on the model created during the training phase.\n",
    "\n",
    "In this notebook, you will perform the following steps:\n",
    "\n",
    "1. [Import the libraries](#import)\n",
    "2. [Read Nifty 50 data](#nifty50_data)\n",
    "3. [Define the explanatory variables](#explanatory_variables)\n",
    "3. [Define the target variables](#target_variables)\n",
    "4. [Split the data into train and test](#train_test)\n",
    "5. [Support Vector Classifier (SVC)](#SVC)\n",
    "6. [Classifier accuracy](#Classifier_accuracy)\n",
    "7. [Strategy implementation](#Strategy_implementation)\n"
   ]
  },
  {
   "cell_type": "markdown",
   "metadata": {},
   "source": [
    "<a id='import'></a> \n",
    "## Import the libraries"
   ]
  },
  {
   "cell_type": "code",
   "execution_count": 1,
   "metadata": {},
   "outputs": [],
   "source": [
    "# Machine learning\n",
    "from sklearn.svm import SVC\n",
    "from sklearn.metrics import accuracy_score\n",
    "\n",
    "# For data manipulation\n",
    "import pandas as pd\n",
    "import numpy as np\n",
    "\n",
    "# To plot\n",
    "import matplotlib.pyplot as plt\n",
    "plt.style.use('seaborn-darkgrid')\n",
    "\n",
    "# To ignore warnings\n",
    "import warnings\n",
    "warnings.filterwarnings(\"ignore\")"
   ]
  },
  {
   "cell_type": "markdown",
   "metadata": {},
   "source": [
    "<a id='nifty50_data'></a> \n",
    "## Read Nifty50 data\n",
    "The OHLC data for the stocks is stored in the CSV file. To read a CSV file, you can use `read_csv` method of `pandas`. The syntax is shown below.\n",
    "\n",
    "Syntax: \n",
    "```python\n",
    "import pandas as pd\n",
    "pd.read_csv(filename, index_col)\n",
    "```\n",
    "1. filename: Name of the file in the string format\n",
    "2. index_col: Column(s) to use as the row labels of the dataframe, either given as string name or column index\n",
    "\n",
    "We will read the Nifty 50 data from CSV file."
   ]
  },
  {
   "cell_type": "code",
   "execution_count": 3,
   "metadata": {},
   "outputs": [
    {
     "data": {
      "text/html": [
       "<div>\n",
       "<style scoped>\n",
       "    .dataframe tbody tr th:only-of-type {\n",
       "        vertical-align: middle;\n",
       "    }\n",
       "\n",
       "    .dataframe tbody tr th {\n",
       "        vertical-align: top;\n",
       "    }\n",
       "\n",
       "    .dataframe thead th {\n",
       "        text-align: right;\n",
       "    }\n",
       "</style>\n",
       "<table border=\"1\" class=\"dataframe\">\n",
       "  <thead>\n",
       "    <tr style=\"text-align: right;\">\n",
       "      <th></th>\n",
       "      <th>Open</th>\n",
       "      <th>High</th>\n",
       "      <th>Low</th>\n",
       "      <th>Close</th>\n",
       "      <th>Shares Traded</th>\n",
       "      <th>Turnover (Rs. Cr)</th>\n",
       "    </tr>\n",
       "    <tr>\n",
       "      <th>Date</th>\n",
       "      <th></th>\n",
       "      <th></th>\n",
       "      <th></th>\n",
       "      <th></th>\n",
       "      <th></th>\n",
       "      <th></th>\n",
       "    </tr>\n",
       "  </thead>\n",
       "  <tbody>\n",
       "    <tr>\n",
       "      <th>2019-04-01</th>\n",
       "      <td>11665.20</td>\n",
       "      <td>11738.10</td>\n",
       "      <td>11644.75</td>\n",
       "      <td>11669.15</td>\n",
       "      <td>379572660</td>\n",
       "      <td>18977.99</td>\n",
       "    </tr>\n",
       "    <tr>\n",
       "      <th>2019-04-02</th>\n",
       "      <td>11711.55</td>\n",
       "      <td>11729.35</td>\n",
       "      <td>11655.85</td>\n",
       "      <td>11713.20</td>\n",
       "      <td>386131413</td>\n",
       "      <td>18673.70</td>\n",
       "    </tr>\n",
       "    <tr>\n",
       "      <th>2019-04-03</th>\n",
       "      <td>11735.30</td>\n",
       "      <td>11761.00</td>\n",
       "      <td>11629.15</td>\n",
       "      <td>11643.95</td>\n",
       "      <td>365760070</td>\n",
       "      <td>19050.95</td>\n",
       "    </tr>\n",
       "    <tr>\n",
       "      <th>2019-04-04</th>\n",
       "      <td>11660.20</td>\n",
       "      <td>11662.55</td>\n",
       "      <td>11559.20</td>\n",
       "      <td>11598.00</td>\n",
       "      <td>349029830</td>\n",
       "      <td>19713.01</td>\n",
       "    </tr>\n",
       "    <tr>\n",
       "      <th>2019-04-05</th>\n",
       "      <td>11638.40</td>\n",
       "      <td>11689.65</td>\n",
       "      <td>11609.50</td>\n",
       "      <td>11665.95</td>\n",
       "      <td>266665797</td>\n",
       "      <td>15000.35</td>\n",
       "    </tr>\n",
       "  </tbody>\n",
       "</table>\n",
       "</div>"
      ],
      "text/plain": [
       "                Open      High       Low     Close  Shares Traded  \\\n",
       "Date                                                                \n",
       "2019-04-01  11665.20  11738.10  11644.75  11669.15      379572660   \n",
       "2019-04-02  11711.55  11729.35  11655.85  11713.20      386131413   \n",
       "2019-04-03  11735.30  11761.00  11629.15  11643.95      365760070   \n",
       "2019-04-04  11660.20  11662.55  11559.20  11598.00      349029830   \n",
       "2019-04-05  11638.40  11689.65  11609.50  11665.95      266665797   \n",
       "\n",
       "            Turnover (Rs. Cr)  \n",
       "Date                           \n",
       "2019-04-01           18977.99  \n",
       "2019-04-02           18673.70  \n",
       "2019-04-03           19050.95  \n",
       "2019-04-04           19713.01  \n",
       "2019-04-05           15000.35  "
      ]
     },
     "execution_count": 3,
     "metadata": {},
     "output_type": "execute_result"
    }
   ],
   "source": [
    "# Read the csv file using read_csv method of pandas\n",
    "Df = pd.read_csv('./nifty_50_FY19_20.csv', index_col=0)\n",
    "\n",
    "# Convert index to datetime format\n",
    "Df.index = pd.to_datetime(Df.index)\n",
    "\n",
    "# Print the first five rows \n",
    "Df.head()"
   ]
  },
  {
   "cell_type": "markdown",
   "metadata": {},
   "source": [
    "<a id='explanatory_variables'></a> \n",
    "## Define the explanatory variables\n",
    "\n",
    "Explanatory or independent variables are used to predict the value response variable. The X is a dataset that holds the variables which are used for prediction. The X consists of variables such as 'Open - Close' and 'High - Low'. These can be understood as indicators based on which the algorithm will predict tomorrow's trend. Feel free to add more indicators and see the performance."
   ]
  },
  {
   "cell_type": "code",
   "execution_count": 5,
   "metadata": {},
   "outputs": [
    {
     "data": {
      "text/html": [
       "<div>\n",
       "<style scoped>\n",
       "    .dataframe tbody tr th:only-of-type {\n",
       "        vertical-align: middle;\n",
       "    }\n",
       "\n",
       "    .dataframe tbody tr th {\n",
       "        vertical-align: top;\n",
       "    }\n",
       "\n",
       "    .dataframe thead th {\n",
       "        text-align: right;\n",
       "    }\n",
       "</style>\n",
       "<table border=\"1\" class=\"dataframe\">\n",
       "  <thead>\n",
       "    <tr style=\"text-align: right;\">\n",
       "      <th></th>\n",
       "      <th>Open-Close</th>\n",
       "      <th>High-Low</th>\n",
       "    </tr>\n",
       "    <tr>\n",
       "      <th>Date</th>\n",
       "      <th></th>\n",
       "      <th></th>\n",
       "    </tr>\n",
       "  </thead>\n",
       "  <tbody>\n",
       "    <tr>\n",
       "      <th>2019-04-01</th>\n",
       "      <td>-3.95</td>\n",
       "      <td>93.35</td>\n",
       "    </tr>\n",
       "    <tr>\n",
       "      <th>2019-04-02</th>\n",
       "      <td>-1.65</td>\n",
       "      <td>73.50</td>\n",
       "    </tr>\n",
       "    <tr>\n",
       "      <th>2019-04-03</th>\n",
       "      <td>91.35</td>\n",
       "      <td>131.85</td>\n",
       "    </tr>\n",
       "    <tr>\n",
       "      <th>2019-04-04</th>\n",
       "      <td>62.20</td>\n",
       "      <td>103.35</td>\n",
       "    </tr>\n",
       "    <tr>\n",
       "      <th>2019-04-05</th>\n",
       "      <td>-27.55</td>\n",
       "      <td>80.15</td>\n",
       "    </tr>\n",
       "  </tbody>\n",
       "</table>\n",
       "</div>"
      ],
      "text/plain": [
       "            Open-Close  High-Low\n",
       "Date                            \n",
       "2019-04-01       -3.95     93.35\n",
       "2019-04-02       -1.65     73.50\n",
       "2019-04-03       91.35    131.85\n",
       "2019-04-04       62.20    103.35\n",
       "2019-04-05      -27.55     80.15"
      ]
     },
     "execution_count": 5,
     "metadata": {},
     "output_type": "execute_result"
    }
   ],
   "source": [
    "# Create predictor variables\n",
    "Df['Open-Close'] = Df.Open - Df.Close\n",
    "Df['High-Low'] = Df.High - Df.Low\n",
    "\n",
    "# Store all predictor variables in a variable X\n",
    "X = Df[['Open-Close', 'High-Low']]\n",
    "X.head()"
   ]
  },
  {
   "cell_type": "markdown",
   "metadata": {},
   "source": [
    "<a id='target_variables'></a> \n",
    "## Define the target variable\n",
    "\n",
    "Target variable is the outcome which the machine learning model will predict based on the explanatory variables. y is a target dataset storing the correct trading signal which the machine learning algorithm will try to predict. If tomorrow's price is greater than today's price then we will buy the S&P500 index, else we will have no position in the S&P500 index. We will store +1 for a buy signal and 0 for a no position in y.\n",
    "\n",
    "We use `where()` function from NumPy to do this.\n",
    "\n",
    "Syntax:\n",
    "```python\n",
    "import numpy as np\n",
    "np.where(condition,value_if_true,value_if_false) \n",
    "```\n",
    "Parameters \n",
    "\n",
    "Condition: Condition to check\n",
    "\n",
    "value_if_true: Value if the condition is satisfied \n",
    "\n",
    "value_if_false: Value If the condition is not satisfied"
   ]
  },
  {
   "cell_type": "code",
   "execution_count": 7,
   "metadata": {},
   "outputs": [],
   "source": [
    "# Target variables\n",
    "y = np.where(Df['Close'].shift(-1) > Df['Close'], 1, 0)"
   ]
  },
  {
   "cell_type": "markdown",
   "metadata": {},
   "source": [
    "<a id='train_test'></a> \n",
    "## Split the data into train and test\n",
    "\n",
    "We will split data into training and test data set. This is done so that we can evaluate the effectiveness of the model in the test dataset.\n",
    "\n",
    "1. First, 80% of data is used for training and remaining data for testing.\n",
    "2. X_train and y_train are training dataset.\n",
    "3. X_test and y_test are test dataset."
   ]
  },
  {
   "cell_type": "code",
   "execution_count": 8,
   "metadata": {},
   "outputs": [],
   "source": [
    "split_percentage = 0.8\n",
    "split = int(split_percentage*len(Df))\n",
    "\n",
    "# Train data set\n",
    "X_train = X[:split]\n",
    "y_train = y[:split]\n",
    "\n",
    "# Test data set\n",
    "X_test = X[split:]\n",
    "y_test = y[split:]"
   ]
  },
  {
   "cell_type": "markdown",
   "metadata": {},
   "source": [
    "<a id='SVC'></a> \n",
    "# Support Vector Classifier (SVC)\n",
    "We will use SVC() function from sklearn.svm.SVC library to create our classifier model using fit() method on the training data set.\n",
    "\n",
    "Syntax:\n",
    "```python\n",
    "from sklearn.svm import SVC\n",
    "SVC().fit(X, y) \n",
    "```\n",
    "Parameters \n",
    "\n",
    "X: Explanatory variables in the training set\n",
    "\n",
    "y: Target variable in the training set"
   ]
  },
  {
   "cell_type": "code",
   "execution_count": 9,
   "metadata": {},
   "outputs": [],
   "source": [
    "# Support vector classifier\n",
    "cls = SVC().fit(X_train, y_train)"
   ]
  },
  {
   "cell_type": "markdown",
   "metadata": {},
   "source": [
    "<a id='Classifier_accuracy'></a> \n",
    "# Classifier accuracy\n",
    "We will compute the accuracy of the algorithm on the train and test data set by comparing the actual values of signal with the predicted values of signal. The function accuracy_score() will be used to calculate the accuracy.\n",
    "\n",
    "Syntax:\n",
    "```python\n",
    "from sklearn.metrics import accuracy_score\n",
    "accuracy_score(y_true, y_predicted) \n",
    "```\n",
    "Parameters \n",
    "\n",
    "y_true: Actual/correct labels\n",
    "\n",
    "y_predicted: Predicted labels, as returned by the classifier"
   ]
  },
  {
   "cell_type": "code",
   "execution_count": 10,
   "metadata": {},
   "outputs": [
    {
     "name": "stdout",
     "output_type": "stream",
     "text": [
      "\n",
      "Train Accuracy: 60.20%\n",
      "Test Accuracy: 52.00%\n"
     ]
    }
   ],
   "source": [
    "# train and test accuracy\n",
    "accuracy_train = accuracy_score(y_train, cls.predict(X_train))\n",
    "accuracy_test = accuracy_score(y_test, cls.predict(X_test))\n",
    "\n",
    "print('\\nTrain Accuracy:{: .2f}%'.format(accuracy_train*100))\n",
    "print('Test Accuracy:{: .2f}%'.format(accuracy_test*100))"
   ]
  },
  {
   "cell_type": "markdown",
   "metadata": {},
   "source": [
    "<a id='Strategy_implementation'></a> \n",
    "## Strategy implementation\n",
    "\n",
    "### Predict signal \n",
    "\n",
    "We will predict the signal (buy or sell) using the cls.predict() function.\n",
    "\n",
    "### Compute returns in test period\n",
    "\n",
    "We will compute the strategy returns based on the predicted signal, and then save it in the column 'geometric returns' and plot the geometric returns."
   ]
  },
  {
   "cell_type": "code",
   "execution_count": 11,
   "metadata": {},
   "outputs": [
    {
     "data": {
      "image/png": "[encoded data removed]",
      "text/plain": [
       "<Figure size 720x504 with 1 Axes>"
      ]
     },
     "metadata": {},
     "output_type": "display_data"
    }
   ],
   "source": [
    "# Predicted Signal\n",
    "Df['Predicted_Signal'] = cls.predict(X)\n",
    "\n",
    "# Calculate daily returns\n",
    "Df['Return'] = Df.Close.pct_change()\n",
    "\n",
    "# Calculate strategy returns\n",
    "Df['Strategy_Return'] = Df.Return * Df.Predicted_Signal.shift(1)\n",
    "\n",
    "# Calculate geometric returns\n",
    "geometric_returns = (Df.Strategy_Return.iloc[split:]+1).cumprod()\n",
    "\n",
    "# Plot geometric returns\n",
    "geometric_returns.plot(figsize=(10, 7),color='g')\n",
    "plt.ylabel(\"Strategy Returns (%)\")\n",
    "plt.xlabel(\"Date\")\n",
    "plt.show()"
   ]
  },
  {
   "cell_type": "markdown",
   "metadata": {},
   "source": [
    "## Tweak the code\n",
    "You can tweak the code in the following ways:\n",
    "\n",
    "1. Use different data sets: backtest and try out the model on different data sets!\n",
    "2. Features: create your features using different indicators that could improve the prediction accuracy.\n"
   ]
  },
  {
   "cell_type": "code",
   "execution_count": null,
   "metadata": {},
   "outputs": [],
   "source": []
  }
 ],
 "metadata": {
  "kernelspec": {
   "display_name": "jupyter_env",
   "language": "python",
   "name": "jupyter_env"
  },
  "language_info": {
   "codemirror_mode": {
    "name": "ipython",
    "version": 3
   },
   "file_extension": ".py",
   "mimetype": "text/x-python",
   "name": "python",
   "nbconvert_exporter": "python",
   "pygments_lexer": "ipython3",
   "version": "3.7.6"
  }
 },
 "nbformat": 4,
 "nbformat_minor": 4
}
